{
 "cells": [
  {
   "cell_type": "code",
   "execution_count": 2,
   "metadata": {},
   "outputs": [
    {
     "name": "stdout",
     "output_type": "stream",
     "text": [
      "Requirement already satisfied: easyocr in /home/bekzat/anaconda3/lib/python3.8/site-packages (1.2.4)\n",
      "Requirement already satisfied: opencv-python in /home/bekzat/anaconda3/lib/python3.8/site-packages (from easyocr) (4.5.1.48)\n",
      "Requirement already satisfied: scikit-image in /home/bekzat/anaconda3/lib/python3.8/site-packages (from easyocr) (0.17.2)\n",
      "Requirement already satisfied: Pillow in /home/bekzat/anaconda3/lib/python3.8/site-packages (from easyocr) (8.1.0)\n",
      "Requirement already satisfied: PyYAML in /home/bekzat/anaconda3/lib/python3.8/site-packages (from easyocr) (5.4.1)\n",
      "Requirement already satisfied: numpy in /home/bekzat/anaconda3/lib/python3.8/site-packages (from easyocr) (1.19.2)\n",
      "Requirement already satisfied: torchvision>=0.5 in /home/bekzat/anaconda3/lib/python3.8/site-packages (from easyocr) (0.8.2)\n",
      "Requirement already satisfied: torch in /home/bekzat/anaconda3/lib/python3.8/site-packages (from easyocr) (1.7.1)\n",
      "Requirement already satisfied: python-bidi in /home/bekzat/anaconda3/lib/python3.8/site-packages (from easyocr) (0.4.2)\n",
      "Requirement already satisfied: scipy in /home/bekzat/anaconda3/lib/python3.8/site-packages (from easyocr) (1.5.2)\n",
      "Requirement already satisfied: typing-extensions in /home/bekzat/anaconda3/lib/python3.8/site-packages (from torch->easyocr) (3.7.4.3)\n",
      "Requirement already satisfied: six in /home/bekzat/anaconda3/lib/python3.8/site-packages (from python-bidi->easyocr) (1.15.0)\n",
      "Requirement already satisfied: matplotlib!=3.0.0,>=2.0.0 in /home/bekzat/anaconda3/lib/python3.8/site-packages (from scikit-image->easyocr) (3.3.2)\n",
      "Requirement already satisfied: networkx>=2.0 in /home/bekzat/anaconda3/lib/python3.8/site-packages (from scikit-image->easyocr) (2.5)\n",
      "Requirement already satisfied: imageio>=2.3.0 in /home/bekzat/anaconda3/lib/python3.8/site-packages (from scikit-image->easyocr) (2.9.0)\n",
      "Requirement already satisfied: tifffile>=2019.7.26 in /home/bekzat/anaconda3/lib/python3.8/site-packages (from scikit-image->easyocr) (2021.1.14)\n",
      "Requirement already satisfied: PyWavelets>=1.1.1 in /home/bekzat/anaconda3/lib/python3.8/site-packages (from scikit-image->easyocr) (1.1.1)\n",
      "Requirement already satisfied: cycler>=0.10 in /home/bekzat/anaconda3/lib/python3.8/site-packages (from matplotlib!=3.0.0,>=2.0.0->scikit-image->easyocr) (0.10.0)\n",
      "Requirement already satisfied: python-dateutil>=2.1 in /home/bekzat/anaconda3/lib/python3.8/site-packages (from matplotlib!=3.0.0,>=2.0.0->scikit-image->easyocr) (2.8.1)\n",
      "Requirement already satisfied: pyparsing!=2.0.4,!=2.1.2,!=2.1.6,>=2.0.3 in /home/bekzat/anaconda3/lib/python3.8/site-packages (from matplotlib!=3.0.0,>=2.0.0->scikit-image->easyocr) (2.4.7)\n",
      "Requirement already satisfied: kiwisolver>=1.0.1 in /home/bekzat/anaconda3/lib/python3.8/site-packages (from matplotlib!=3.0.0,>=2.0.0->scikit-image->easyocr) (1.3.0)\n",
      "Requirement already satisfied: certifi>=2020.06.20 in /home/bekzat/anaconda3/lib/python3.8/site-packages (from matplotlib!=3.0.0,>=2.0.0->scikit-image->easyocr) (2020.12.5)\n",
      "Requirement already satisfied: decorator>=4.3.0 in /home/bekzat/anaconda3/lib/python3.8/site-packages (from networkx>=2.0->scikit-image->easyocr) (4.4.2)\n"
     ]
    }
   ],
   "source": [
    "\n",
    "!pip install easyocr"
   ]
  },
  {
   "cell_type": "code",
   "execution_count": 3,
   "metadata": {},
   "outputs": [],
   "source": [
    "import easyocr\n",
    "import cv2\n",
    "from matplotlib import pyplot as plt\n",
    "import numpy as np"
   ]
  },
  {
   "cell_type": "code",
   "execution_count": 4,
   "metadata": {},
   "outputs": [],
   "source": [
    "IMAGE_PATH = 'Image/ch.png'"
   ]
  },
  {
   "cell_type": "code",
   "execution_count": 5,
   "metadata": {
    "scrolled": false
   },
   "outputs": [
    {
     "name": "stderr",
     "output_type": "stream",
     "text": [
      "/home/bekzat/anaconda3/lib/python3.8/site-packages/torch/cuda/__init__.py:52: UserWarning: CUDA initialization: Found no NVIDIA driver on your system. Please check that you have an NVIDIA GPU and installed a driver from http://www.nvidia.com/Download/index.aspx (Triggered internally at  /pytorch/c10/cuda/CUDAFunctions.cpp:100.)\n",
      "  return torch._C._cuda_getDeviceCount() > 0\n",
      "CUDA not available - defaulting to CPU. Note: This module is much faster with a GPU.\n"
     ]
    },
    {
     "data": {
      "text/plain": [
       "[([[434, 460], [2332, 460], [2332, 572], [434, 572]],\n",
       "  'THE GREAT ENGLISH DOCUMENT',\n",
       "  0.1241413801908493),\n",
       " ([[444, 583], [1858, 583], [1858, 710], [444, 710]],\n",
       "  '1) Fisrst item with some english text',\n",
       "  0.07283104956150055),\n",
       " ([[439, 690], [3455, 690], [3455, 816], [439, 816]],\n",
       "  '2) Second item with some even more inglish text. Let me speek from my heart',\n",
       "  0.004565699957311153),\n",
       " ([[461, 937], [780, 937], [780, 1036], [461, 1036]],\n",
       "  'London',\n",
       "  0.9962947368621826),\n",
       " ([[2377, 936], [3449, 936], [3449, 1053], [2377, 1053]],\n",
       "  'The capital of Great Britain',\n",
       "  0.06054726615548134),\n",
       " ([[460, 1092], [724, 1092], [724, 1204], [460, 1204]],\n",
       "  'Speek',\n",
       "  0.9764533042907715),\n",
       " ([[2370, 1089], [2973, 1089], [2973, 1210], [2370, 1210]],\n",
       "  'From my heart',\n",
       "  0.7071970105171204)]"
      ]
     },
     "execution_count": 5,
     "metadata": {},
     "output_type": "execute_result"
    }
   ],
   "source": [
    "reader = easyocr.Reader(['en'])\n",
    "result = reader.readtext(IMAGE_PATH)\n",
    "result"
   ]
  },
  {
   "cell_type": "code",
   "execution_count": 6,
   "metadata": {},
   "outputs": [],
   "source": [
    "top_left = tuple(result[0][0][0])\n",
    "bottom_right = tuple(result[0][0][2])\n",
    "text = result[0][1]\n",
    "font = cv2.FONT_HERSHEY_SIMPLEX"
   ]
  },
  {
   "cell_type": "code",
   "execution_count": 7,
   "metadata": {},
   "outputs": [
    {
     "data": {
      "image/png": "[encoded data removed]",
      "text/plain": [
       "<Figure size 432x288 with 1 Axes>"
      ]
     },
     "metadata": {
      "needs_background": "light"
     },
     "output_type": "display_data"
    }
   ],
   "source": [
    "img = cv2.imread(IMAGE_PATH)\n",
    "img = cv2.rectangle(img,top_left,bottom_right,(0,255,0),3)\n",
    "img = cv2.putText(img,text,top_left, font, 0.5,(255,0,0),2,cv2.LINE_AA)\n",
    "plt.imshow(img)\n",
    "plt.show()"
   ]
  },
  {
   "cell_type": "code",
   "execution_count": 8,
   "metadata": {},
   "outputs": [
    {
     "data": {
      "image/png": "[encoded data removed]",
      "text/plain": [
       "<Figure size 432x288 with 1 Axes>"
      ]
     },
     "metadata": {
      "needs_background": "light"
     },
     "output_type": "display_data"
    }
   ],
   "source": [
    "img = cv2.imread(IMAGE_PATH)\n",
    "spacer = 100\n",
    "for detection in result: \n",
    "    top_left = tuple(detection[0][0])\n",
    "    bottom_right = tuple(detection[0][2])\n",
    "    text = detection[1]\n",
    "    img = cv2.rectangle(img,top_left,bottom_right,(0,255,0),3)\n",
    "    img = cv2.putText(img,text,(20,spacer), font, 0.7,(255,0,0),2,cv2.LINE_AA)\n",
    "    spacer+=15\n",
    "    \n",
    "plt.imshow(img)\n",
    "plt.show()"
   ]
  },
  {
   "cell_type": "code",
   "execution_count": 9,
   "metadata": {},
   "outputs": [
    {
     "data": {
      "image/png": "[encoded data removed]",
      "text/plain": [
       "<Figure size 432x288 with 1 Axes>"
      ]
     },
     "metadata": {
      "needs_background": "light"
     },
     "output_type": "display_data"
    }
   ],
   "source": [
    "img = cv2.imread(IMAGE_PATH)\n",
    "TEXT = ''\n",
    "for detection in result: \n",
    "    top_left = tuple(int(val) for val in detection[0][0])\n",
    "    bottom_right = tuple(int(val) for val in detection[0][2])\n",
    "    text = detection[1]\n",
    "    TEXT = TEXT + ' ' + text\n",
    "    font = cv2.FONT_HERSHEY_COMPLEX\n",
    "    img = cv2.rectangle(img,top_left,bottom_right,(0,255,0),3)\n",
    "    img = cv2.putText(img,text,top_left, font, 1,(255,0,0),2,cv2.LINE_AA)\n",
    "    \n",
    "plt.imshow(img)\n",
    "plt.show()"
   ]
  },
  {
   "cell_type": "code",
   "execution_count": 14,
   "metadata": {},
   "outputs": [
    {
     "name": "stdout",
     "output_type": "stream",
     "text": [
      " [Anaconda Navigator] english_ doc bad_text pdf [#studjchat- Discord] OCP Ba5ic5-Easy0CP Jup te.: FDF DalOBLII1 MeHe_rep H [read. py- (Pa6ouan ObnaCTb..: [TepIMHa belzatgbelzat... 6_?1 15 Map, 05:51 english_doc_bad_text pdf Dal TpaBka Bug Tlepexo_ 3aKnagKI CnpaBka Tpe Aslgyuan Cnegyouan (1 #3 1] Tlo LIpIHe CTpaHHLLI oopa3!ul CTpaHM! THE GREAT ENGLISH DOCUMENT 1) Fisrst item with some english text 2) Second item with some even more inglish text. Let me speek from myheart London The capital of Great Britain Speek From my heart\n"
     ]
    }
   ],
   "source": [
    "print(TEXT)"
   ]
  },
  {
   "cell_type": "code",
   "execution_count": 10,
   "metadata": {},
   "outputs": [
    {
     "name": "stderr",
     "output_type": "stream",
     "text": [
      "CUDA not available - defaulting to CPU. Note: This module is much faster with a GPU.\n"
     ]
    },
    {
     "name": "stdout",
     "output_type": "stream",
     "text": [
      " THE GREAT ENGLISH DOCUMENT 1) Fisrst item with some english text 2) Second item with some even more inglish text. Let me speek from my heart London The capital of Great Britain Speek From my heart\n"
     ]
    }
   ],
   "source": [
    "reader = easyocr.Reader(['en', 'ru'])\n",
    "result = reader.readtext(IMAGE_PATH)\n",
    "text = ''\n",
    "for detection in result:\n",
    "    text = text + ' ' + detection[1]\n",
    "print(text)"
   ]
  },
  {
   "cell_type": "code",
   "execution_count": null,
   "metadata": {},
   "outputs": [],
   "source": []
  }
 ],
 "metadata": {
  "kernelspec": {
   "display_name": "Python 3",
   "language": "python",
   "name": "python3"
  },
  "language_info": {
   "codemirror_mode": {
    "name": "ipython",
    "version": 3
   },
   "file_extension": ".py",
   "mimetype": "text/x-python",
   "name": "python",
   "nbconvert_exporter": "python",
   "pygments_lexer": "ipython3",
   "version": "3.8.5"
  }
 },
 "nbformat": 4,
 "nbformat_minor": 2
}
